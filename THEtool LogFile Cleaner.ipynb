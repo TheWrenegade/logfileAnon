{
 "cells": [
  {
   "cell_type": "code",
   "execution_count": 7,
   "id": "f72777fd",
   "metadata": {},
   "outputs": [
    {
     "name": "stdout",
     "output_type": "stream",
     "text": [
      "Skipping C:\\Users\\Wren\\Documents\\THEtool_logfiles\\7000-iytxeq7u-xMB1FzNEjz - unable to rename file ([WinError 32] The process cannot access the file because it is being used by another process: 'C:\\\\Users\\\\Wren\\\\Documents\\\\THEtool_logfiles\\\\7000-iytxeq7u-xMB1FzNEjz' -> 'C:\\\\Users\\\\Wren\\\\Documents\\\\THEtool_logfiles\\\\7000-anon-xMB1FzNEjz')\n"
     ]
    }
   ],
   "source": [
    "import sqlite3\n",
    "import os\n",
    "import re\n",
    "\n",
    "# Open folder and directory\n",
    "data = 'C:\\\\Users\\\\Wren\\\\Documents\\\\THEtool_logfiles'\n",
    "filenames = []\n",
    "dir_list = os.listdir(data)\n",
    "for file in dir_list:\n",
    "    if re.match(r\"\\d+-\\w+-\\S+\", file):\n",
    "        filenames.append(file)\n",
    "\n",
    "# Empty a table in the log\n",
    "for file in filenames:\n",
    "    conn = sqlite3.connect(os.path.join(data, file))\n",
    "    c = conn.cursor()\n",
    "    c.execute(\"DELETE FROM props;\")\n",
    "    conn.commit()\n",
    "    \n",
    "# Clear tabs \n",
    "for file in filenames:\n",
    "    conn = sqlite3.connect(os.path.join(data, file))\n",
    "    c.execute(\"UPDATE act SET json='{\\\"is_focused\\\":false}' where k='focus' AND json LIKE '%is_focused\\\":false%'\")\n",
    "    conn.commit()\n",
    "\n",
    "# Find the lowest value of t for each file\n",
    "lowest_t = {}\n",
    "for file in filenames:\n",
    "    conn = sqlite3.connect(os.path.join(data, file))\n",
    "    c = conn.cursor()\n",
    "    c.execute(\"SELECT MIN(t) FROM (SELECT MIN(t) AS t FROM act UNION SELECT MIN(t) AS t FROM key UNION SELECT MIN(t) AS t FROM eye);\")\n",
    "    row = c.fetchone()\n",
    "    if row is not None:\n",
    "        lowest_t[file] = row[0]\n",
    "    conn.close()\n",
    "\n",
    "# Subtract the lowest t from all t values in each file\n",
    "for file, lowt in lowest_t.items():\n",
    "    conn = sqlite3.connect(os.path.join(data, file))\n",
    "    c = conn.cursor()\n",
    "    c.execute(\"UPDATE act SET t = t - ? WHERE t >= ?;\", (lowt, lowt))\n",
    "    c.execute(\"UPDATE key SET t = t - ? WHERE t >= ?;\", (lowt, lowt))\n",
    "    c.execute(\"UPDATE eye SET t = t - ? WHERE t >= ?;\", (lowt, lowt))\n",
    "    conn.commit()\n",
    "\n",
    "# Change the name of the log\n",
    "for file in filenames:   \n",
    "    current_name = os.path.join(data, file)\n",
    "    new_name = re.sub(r\"(\\d+-)\\w+(-\\S+)\", r\"\\1anon\\2\", file)\n",
    "    try:\n",
    "        os.rename(current_name, os.path.join(data, new_name))\n",
    "    except Exception as e:\n",
    "        print(f\"Skipping {current_name} - unable to rename file ({e})\")\n",
    "        continue\n",
    "\n",
    "# Commit the changes and close the connection\n",
    "conn.commit()\n",
    "conn.close()"
   ]
  },
  {
   "cell_type": "code",
   "execution_count": 8,
   "id": "5da2badc",
   "metadata": {},
   "outputs": [],
   "source": [
    "import sqlite3\n",
    "import os\n",
    "import re\n",
    "\n",
    "data = 'C:\\\\Users\\\\Wren\\\\Documents\\\\THEtool_logfiles'\n",
    "filenames_anon = []\n",
    "dir_list = os.listdir(data)\n",
    "for file in dir_list:\n",
    "    if re.match(r\"\\d+-anon-\\S+\", file):\n",
    "        filenames_anon.append(file)\n",
    "        \n",
    "for file in filenames_anon:\n",
    "    conn = sqlite3.connect(os.path.join(data, file))\n",
    "    c = conn.cursor()\n",
    "    c.execute(\"UPDATE act SET json='{\\\"is_focused\\\":false}' where k='focus' AND json LIKE '%is_focused\\\":false%'\")\n",
    "    conn.commit()"
   ]
  }
 ],
 "metadata": {
  "kernelspec": {
   "display_name": "Python 3 (ipykernel)",
   "language": "python",
   "name": "python3"
  },
  "language_info": {
   "codemirror_mode": {
    "name": "ipython",
    "version": 3
   },
   "file_extension": ".py",
   "mimetype": "text/x-python",
   "name": "python",
   "nbconvert_exporter": "python",
   "pygments_lexer": "ipython3",
   "version": "3.10.9"
  }
 },
 "nbformat": 4,
 "nbformat_minor": 5
}
