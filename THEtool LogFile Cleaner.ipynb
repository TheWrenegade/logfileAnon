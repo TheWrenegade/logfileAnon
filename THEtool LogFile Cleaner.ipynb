{
 "cells": [
  {
   "cell_type": "code",
   "execution_count": 8,
   "id": "f72777fd",
   "metadata": {},
   "outputs": [
    {
     "name": "stdout",
     "output_type": "stream",
     "text": [
      "Skipping C:\\Users\\Wren\\Documents\\THEtool_logfiles\\7000-iytxeq7u-xMB1FzNEjz - unable to rename file ([WinError 32] The process cannot access the file because it is being used by another process: 'C:\\\\Users\\\\Wren\\\\Documents\\\\THEtool_logfiles\\\\7000-iytxeq7u-xMB1FzNEjz' -> 'C:\\\\Users\\\\Wren\\\\Documents\\\\THEtool_logfiles\\\\7000-anon-xMB1FzNEjz')\n"
     ]
    }
   ],
   "source": [
    "import sqlite3\n",
    "import os\n",
    "import re\n",
    "\n",
    "# Open folder and directory\n",
    "data = 'C:\\\\Users\\\\Wren\\\\Documents\\\\THEtool_logfiles'\n",
    "filenames = []\n",
    "dir_list = os.listdir(data)\n",
    "for file in dir_list:\n",
    "    if re.match(r\"7000-i\\S{7}-\\S+\", file):\n",
    "        filenames.append(file)\n",
    "\n",
    "# Empty a table in the log\n",
    "for file in filenames:\n",
    "    conn = sqlite3.connect(os.path.join(data, file))\n",
    "    c = conn.cursor()\n",
    "    c.execute(\"DELETE FROM props;\")\n",
    "    conn.commit()\n",
    "\n",
    "# Change the t values in tables\n",
    "for file in filenames:\n",
    "    conn = sqlite3.connect(os.path.join(data, file))\n",
    "    c = conn.cursor()\n",
    "    \n",
    "    c.execute(\"SELECT t FROM act ORDER BY rowid LIMIT 1;\")\n",
    "    row = c.fetchone()\n",
    "    if row is not None:\n",
    "        first_number = row[0]\n",
    "        c.execute(\"UPDATE act SET t = t - ?;\", (first_number,))\n",
    "    c.execute(\"SELECT t FROM key ORDER BY rowid LIMIT 1;\")\n",
    "    row = c.fetchone()\n",
    "    if row is not None:\n",
    "        first_number = row[0]\n",
    "        c.execute(\"UPDATE key SET t = t - ?;\", (first_number,))\n",
    "    c.execute(\"SELECT t FROM eye ORDER BY rowid LIMIT 1;\")\n",
    "    row = c.fetchone()\n",
    "    if row is not None:\n",
    "        first_number = row[0]\n",
    "        c.execute(\"UPDATE eye SET t = t - ?;\", (first_number,))\n",
    "    conn.commit()\n",
    "\n",
    "# Change the name of the log\n",
    "for file in filenames:   \n",
    "    current_name = os.path.join(data, file)\n",
    "    new_name = re.sub(r\"(7000-)i\\S{7}(-\\S+)\", r\"\\1anon\\2\", file)\n",
    "    try:\n",
    "        os.rename(current_name, os.path.join(data, new_name))\n",
    "    except Exception as e:\n",
    "        print(f\"Skipping {current_name} - unable to rename file ({e})\")\n",
    "        continue\n",
    "\n",
    "# Commit the changes and close the connection\n",
    "conn.commit()\n",
    "conn.close()"
   ]
  },
  {
   "cell_type": "code",
   "execution_count": null,
   "id": "ff087372",
   "metadata": {},
   "outputs": [],
   "source": []
  },
  {
   "cell_type": "code",
   "execution_count": null,
   "id": "65ab9793",
   "metadata": {},
   "outputs": [],
   "source": []
  }
 ],
 "metadata": {
  "kernelspec": {
   "display_name": "Python 3 (ipykernel)",
   "language": "python",
   "name": "python3"
  },
  "language_info": {
   "codemirror_mode": {
    "name": "ipython",
    "version": 3
   },
   "file_extension": ".py",
   "mimetype": "text/x-python",
   "name": "python",
   "nbconvert_exporter": "python",
   "pygments_lexer": "ipython3",
   "version": "3.10.9"
  }
 },
 "nbformat": 4,
 "nbformat_minor": 5
}
