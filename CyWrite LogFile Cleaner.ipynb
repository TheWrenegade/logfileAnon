{
 "cells": [
  {
   "cell_type": "code",
   "execution_count": 1,
   "id": "f72777fd",
   "metadata": {},
   "outputs": [],
   "source": [
    "#Packages to edit SQLite in Python, access operating system, use regex\n",
    "import sqlite3\n",
    "import os\n",
    "import re\n",
    "\n",
    "# Open folder and directory\n",
    "data = 'C:\\\\Users\\\\Wren\\\\Documents\\\\THEtool_logfiles' #replace with the correct file path\n",
    "filenames = []\n",
    "lowest_t = {} #empty dictionary for removing time specific data\n",
    "dir_list = os.listdir(data)\n",
    "for file in dir_list:\n",
    "    if re.match(r\"\\d+-\\w+-\\S+\", file):\n",
    "        filenames.append(file)\n",
    "\n",
    "# Empty a table in the log\n",
    "for file in filenames:\n",
    "    conn = sqlite3.connect(os.path.join(data, file))\n",
    "    c = conn.cursor()\n",
    "    c.execute(\"DELETE FROM props;\")\n",
    "# Clear tabs \n",
    "    c.execute(\"UPDATE act SET json='{\\\"is_focused\\\":false}' where k='focus' AND json LIKE '%is_focused\\\":false%'\")\n",
    "# Find the lowest value of t for each file\n",
    "    c.execute(\"SELECT MIN(t) FROM (SELECT MIN(t) AS t FROM act UNION SELECT MIN(t) AS t FROM key UNION SELECT MIN(t) AS t FROM eye);\")\n",
    "    row = c.fetchone()\n",
    "    if row is not None:\n",
    "        lowest_t[file] = row[0]\n",
    "# Subtract the lowest t from all t values in each file\n",
    "    c.execute(\"UPDATE act SET t = t - ? WHERE t >= ?;\", (lowest_t[file], lowest_t[file]))\n",
    "    c.execute(\"UPDATE key SET t = t - ? WHERE t >= ?;\", (lowest_t[file], lowest_t[file]))\n",
    "    c.execute(\"UPDATE eye SET t = t - ? WHERE t >= ?;\", (lowest_t[file], lowest_t[file]))\n",
    "# Change the name of the log\n",
    "    current_name = os.path.join(data, file)\n",
    "    new_name = re.sub(r\"(\\d+-)\\w+(-\\S+)\", r\"\\1anon\\2\", file)\n",
    "    try:\n",
    "        conn.commit()  # Commit any pending changes before closing the connection\n",
    "        conn.close()   # Close the connection to release the file lock\n",
    "        os.rename(current_name, os.path.join(data, new_name))\n",
    "    except Exception as e:\n",
    "        print(f\"Skipping {current_name} - unable to rename file ({e})\")"
   ]
  }
 ],
 "metadata": {
  "kernelspec": {
   "display_name": "Python 3 (ipykernel)",
   "language": "python",
   "name": "python3"
  },
  "language_info": {
   "codemirror_mode": {
    "name": "ipython",
    "version": 3
   },
   "file_extension": ".py",
   "mimetype": "text/x-python",
   "name": "python",
   "nbconvert_exporter": "python",
   "pygments_lexer": "ipython3",
   "version": "3.10.9"
  }
 },
 "nbformat": 4,
 "nbformat_minor": 5
}
